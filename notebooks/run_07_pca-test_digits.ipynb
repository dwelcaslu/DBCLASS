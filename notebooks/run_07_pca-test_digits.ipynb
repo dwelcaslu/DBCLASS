{
 "cells": [
  {
   "cell_type": "code",
   "execution_count": 1,
   "id": "538fd125-e329-4d16-87ba-0b70a2a9ffa3",
   "metadata": {},
   "outputs": [],
   "source": [
    "import sys\n",
    "sys.path.append('../src/')"
   ]
  },
  {
   "cell_type": "code",
   "execution_count": 2,
   "id": "431f7798-ef4c-4dce-aebf-4a96297f19d7",
   "metadata": {},
   "outputs": [],
   "source": [
    "# Third-party libraries:\n",
    "from sklearn.datasets import load_digits\n",
    "# My libraries:\n",
    "from dbclass import dbclass_utils as db_utils"
   ]
  },
  {
   "cell_type": "code",
   "execution_count": 3,
   "id": "0e554c44-95bf-49c7-98b9-88271a3dea68",
   "metadata": {},
   "outputs": [
    {
     "name": "stdout",
     "output_type": "stream",
     "text": [
      "Actual n_components: 3 - max: 64\n",
      "Actual n_components: 6 - max: 64\n",
      "Actual n_components: 9 - max: 64\n",
      "Actual n_components: 12 - max: 64\n",
      "Actual n_components: 15 - max: 64\n",
      "Actual n_components: 18 - max: 64\n",
      "Actual n_components: 21 - max: 64\n",
      "Actual n_components: 24 - max: 64\n",
      "Actual n_components: 27 - max: 64\n",
      "Actual n_components: 30 - max: 64\n",
      "Actual n_components: 33 - max: 64\n",
      "Actual n_components: 36 - max: 64\n",
      "Actual n_components: 39 - max: 64\n",
      "Actual n_components: 42 - max: 64\n",
      "Actual n_components: 45 - max: 64\n",
      "Actual n_components: 48 - max: 64\n",
      "Actual n_components: 51 - max: 64\n",
      "Actual n_components: 54 - max: 64\n",
      "Actual n_components: 57 - max: 64\n",
      "Actual n_components: 60 - max: 64\n",
      "Actual n_components: 63 - max: 64\n",
      "\n",
      "Best number of components: 15\n",
      "Confidence level: 0.707126\n"
     ]
    }
   ],
   "source": [
    "# import some data to play with\n",
    "ds = load_digits()\n",
    "n_components_best, max_confidence = db_utils.perform_pca_test(ds)\n",
    "print('\\nBest number of components:', n_components_best)\n",
    "print('Confidence level:', max_confidence)"
   ]
  },
  {
   "cell_type": "code",
   "execution_count": null,
   "id": "7736f8b6-500b-4d18-a911-4b23d69a93d9",
   "metadata": {},
   "outputs": [],
   "source": []
  }
 ],
 "metadata": {
  "kernelspec": {
   "display_name": "Python 3 (ipykernel)",
   "language": "python",
   "name": "python3"
  },
  "language_info": {
   "codemirror_mode": {
    "name": "ipython",
    "version": 3
   },
   "file_extension": ".py",
   "mimetype": "text/x-python",
   "name": "python",
   "nbconvert_exporter": "python",
   "pygments_lexer": "ipython3",
   "version": "3.9.5"
  }
 },
 "nbformat": 4,
 "nbformat_minor": 5
}
