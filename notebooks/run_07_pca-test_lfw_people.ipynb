{
 "cells": [
  {
   "cell_type": "code",
   "execution_count": 1,
   "id": "e0ff6ad4-c3dc-4f4e-97d9-ba89ffe98d77",
   "metadata": {},
   "outputs": [],
   "source": [
    "import sys\n",
    "sys.path.append('../src/')"
   ]
  },
  {
   "cell_type": "code",
   "execution_count": 2,
   "id": "b3c00906-61bf-4e49-9018-3dc52dd7013c",
   "metadata": {},
   "outputs": [],
   "source": [
    "# Third-party libraries:\n",
    "from sklearn.datasets import fetch_lfw_people\n",
    "# My libraries:\n",
    "from dbclass import dbclass_utils as db_utils"
   ]
  },
  {
   "cell_type": "code",
   "execution_count": 3,
   "id": "f8eed1e4-2c7f-4ac0-b80f-bbd5ba0bffa5",
   "metadata": {},
   "outputs": [
    {
     "name": "stdout",
     "output_type": "stream",
     "text": [
      "Actual n_components: 10 - max: 200\n",
      "Actual n_components: 20 - max: 200\n",
      "Actual n_components: 30 - max: 200\n",
      "Actual n_components: 40 - max: 200\n",
      "Actual n_components: 50 - max: 200\n",
      "Actual n_components: 60 - max: 200\n",
      "Actual n_components: 70 - max: 200\n",
      "Actual n_components: 80 - max: 200\n",
      "Actual n_components: 90 - max: 200\n",
      "Actual n_components: 100 - max: 200\n",
      "Actual n_components: 110 - max: 200\n",
      "Actual n_components: 120 - max: 200\n",
      "Actual n_components: 130 - max: 200\n",
      "Actual n_components: 140 - max: 200\n",
      "Actual n_components: 150 - max: 200\n",
      "Actual n_components: 160 - max: 200\n",
      "Actual n_components: 170 - max: 200\n",
      "Actual n_components: 180 - max: 200\n",
      "Actual n_components: 190 - max: 200\n",
      "Best number of components: 80\n",
      "Confidence level: 0.693435\n"
     ]
    }
   ],
   "source": [
    "# import some data to play with\n",
    "ds = fetch_lfw_people(min_faces_per_person=70, resize=0.4)\n",
    "n_components_best, max_confidence = db_utils.perform_pca_test(ds)\n",
    "print('Best number of components:', n_components_best)\n",
    "print('Confidence level:', max_confidence)\n"
   ]
  },
  {
   "cell_type": "code",
   "execution_count": null,
   "id": "0cc6e123-f19e-4f6c-b2c7-7cb56c40ecae",
   "metadata": {},
   "outputs": [],
   "source": []
  }
 ],
 "metadata": {
  "kernelspec": {
   "display_name": "Python 3 (ipykernel)",
   "language": "python",
   "name": "python3"
  },
  "language_info": {
   "codemirror_mode": {
    "name": "ipython",
    "version": 3
   },
   "file_extension": ".py",
   "mimetype": "text/x-python",
   "name": "python",
   "nbconvert_exporter": "python",
   "pygments_lexer": "ipython3",
   "version": "3.9.5"
  }
 },
 "nbformat": 4,
 "nbformat_minor": 5
}
